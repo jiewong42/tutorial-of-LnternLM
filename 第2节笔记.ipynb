{
 "cells": [
  {
   "cell_type": "code",
   "execution_count": null,
   "id": "173ce55e-8770-4f95-9b73-2b62f7527fb7",
   "metadata": {},
   "outputs": [],
   "source": [
    "bash # 请每次使用 jupyter lab 打开终端时务必先执行 bash 命令进入 bash 中\n",
    "bash /root/share/install_conda_env_internlm_base.sh internlm-demo  # 执行该脚本文件来安装项目实验环境"
   ]
  },
  {
   "cell_type": "markdown",
   "id": "3c00c6c8",
   "metadata": {},
   "source": [
    "以上代码在终端中输入，等一壶茶的时间，然后使用以下命令激活环境"
   ]
  },
  {
   "cell_type": "code",
   "execution_count": null,
   "id": "a72fe6e4-1c76-47c9-b6f0-6a1585277fcc",
   "metadata": {},
   "outputs": [],
   "source": [
    "conda activate internlm-demo\n",
    "conda install  ipykernel\n",
    "python -m ipykernel install --name internlm-demo --display-name internlm-demo"
   ]
  },
  {
   "cell_type": "markdown",
   "id": "59e95267-05ac-4bb7-a0dd-3d4699917e5f",
   "metadata": {},
   "source": [
    "接下来更换internlm-demo内核，这样就可以在jupyterlab中操作了。以上5行代码需要在终端使用"
   ]
  },
  {
   "cell_type": "code",
   "execution_count": 1,
   "id": "25d887e8-c29a-42f7-a90f-08a1f840cbf5",
   "metadata": {},
   "outputs": [
    {
     "name": "stdout",
     "output_type": "stream",
     "text": [
      "/bin/bash: python: command not found\n",
      "Looking in indexes: https://pypi.tuna.tsinghua.edu.cn/simple\n",
      "Collecting modelscope==1.9.5\n",
      "  Using cached https://pypi.tuna.tsinghua.edu.cn/packages/ac/05/75b5d750608d7354dc3dd023dca7101e5f3b4645cb3e5b816536d472a058/modelscope-1.9.5-py3-none-any.whl (5.4 MB)\n",
      "Collecting gast>=0.2.2\n",
      "  Using cached https://pypi.tuna.tsinghua.edu.cn/packages/fa/39/5aae571e5a5f4de9c3445dae08a530498e5c53b0e74410eeeb0991c79047/gast-0.5.4-py3-none-any.whl (19 kB)\n",
      "Requirement already satisfied: setuptools in /usr/lib/python3/dist-packages (from modelscope==1.9.5) (45.2.0)\n",
      "Requirement already satisfied: python-dateutil>=2.1 in /usr/local/lib/python3.8/dist-packages (from modelscope==1.9.5) (2.8.2)\n",
      "Requirement already satisfied: pyyaml in /usr/local/lib/python3.8/dist-packages (from modelscope==1.9.5) (6.0.1)\n",
      "Collecting datasets<=2.13.0,>=2.8.0\n",
      "  Using cached https://pypi.tuna.tsinghua.edu.cn/packages/17/d8/f808e32ed7fa86617b9ac7a37b7dcff894c839108c4871cc33ffc4e65b7d/datasets-2.13.0-py3-none-any.whl (485 kB)\n",
      "Requirement already satisfied: numpy in /usr/local/lib/python3.8/dist-packages (from modelscope==1.9.5) (1.24.4)\n",
      "Collecting filelock>=3.3.0\n",
      "  Using cached https://pypi.tuna.tsinghua.edu.cn/packages/81/54/84d42a0bee35edba99dee7b59a8d4970eccdd44b99fe728ed912106fc781/filelock-3.13.1-py3-none-any.whl (11 kB)\n",
      "Collecting pyarrow!=9.0.0,>=6.0.0\n",
      "  Using cached https://pypi.tuna.tsinghua.edu.cn/packages/24/68/a44571d37ee6cc45fb47c96a4e8188dccdeb48ffe6f7739c89e27895ecbe/pyarrow-15.0.0-cp38-cp38-manylinux_2_17_x86_64.manylinux2014_x86_64.whl (38.5 MB)\n",
      "Collecting tqdm>=4.64.0\n",
      "  Using cached https://pypi.tuna.tsinghua.edu.cn/packages/2a/14/e75e52d521442e2fcc9f1df3c5e456aead034203d4797867980de558ab34/tqdm-4.66.2-py3-none-any.whl (78 kB)\n",
      "Collecting requests>=2.25\n",
      "  Using cached https://pypi.tuna.tsinghua.edu.cn/packages/70/8e/0e2d847013cb52cd35b38c009bb167a1a26b2ce6cd6965bf26b47bc0bf44/requests-2.31.0-py3-none-any.whl (62 kB)\n",
      "Collecting pandas\n",
      "  Using cached https://pypi.tuna.tsinghua.edu.cn/packages/f8/7f/5b047effafbdd34e52c9e2d7e44f729a0655efafb22198c45cf692cdc157/pandas-2.0.3-cp38-cp38-manylinux_2_17_x86_64.manylinux2014_x86_64.whl (12.4 MB)\n",
      "Processing ./.cache/pip/wheels/e5/1d/c3/c9f899f82f28d5d7a09cb57f74b24ed383a31324014b66cb01/oss2-2.18.4-py3-none-any.whl\n",
      "Collecting scipy\n",
      "  Using cached https://pypi.tuna.tsinghua.edu.cn/packages/69/f0/fb07a9548e48b687b8bf2fa81d71aba9cfc548d365046ca1c791e24db99d/scipy-1.10.1-cp38-cp38-manylinux_2_17_x86_64.manylinux2014_x86_64.whl (34.5 MB)\n",
      "Collecting addict\n",
      "  Using cached https://pypi.tuna.tsinghua.edu.cn/packages/6a/00/b08f23b7d7e1e14ce01419a467b583edbb93c6cdb8654e54a9cc579cd61f/addict-2.4.0-py3-none-any.whl (3.8 kB)\n",
      "Collecting yapf\n",
      "  Using cached https://pypi.tuna.tsinghua.edu.cn/packages/66/c9/d4b03b2490107f13ebd68fe9496d41ae41a7de6275ead56d0d4621b11ffd/yapf-0.40.2-py3-none-any.whl (254 kB)\n",
      "Collecting Pillow>=6.2.0\n",
      "  Using cached https://pypi.tuna.tsinghua.edu.cn/packages/12/88/903575f44935c52cab474e14841931edba91f282db4a665ffd6f08b32457/pillow-10.2.0-cp38-cp38-manylinux_2_17_x86_64.manylinux2014_x86_64.whl (4.4 MB)\n",
      "Collecting urllib3>=1.26\n",
      "  Using cached https://pypi.tuna.tsinghua.edu.cn/packages/a2/73/a68704750a7679d0b6d3ad7aa8d4da8e14e151ae82e6fee774e6e0d05ec8/urllib3-2.2.1-py3-none-any.whl (121 kB)\n",
      "Collecting einops\n",
      "  Using cached https://pypi.tuna.tsinghua.edu.cn/packages/29/0b/2d1c0ebfd092e25935b86509a9a817159212d82aa43d7fb07eca4eeff2c2/einops-0.7.0-py3-none-any.whl (44 kB)\n",
      "Collecting simplejson>=3.3.0\n",
      "  Using cached https://pypi.tuna.tsinghua.edu.cn/packages/33/5f/b9506e323ea89737b34c97a6eda9d22ad6b771190df93f6eb72657a3b996/simplejson-3.19.2-cp38-cp38-manylinux_2_5_x86_64.manylinux1_x86_64.manylinux_2_17_x86_64.manylinux2014_x86_64.whl (136 kB)\n",
      "Collecting sortedcontainers>=1.5.9\n",
      "  Using cached https://pypi.tuna.tsinghua.edu.cn/packages/32/46/9cb0e58b2deb7f82b84065f37f3bffeb12413f947f9388e4cac22c4621ce/sortedcontainers-2.4.0-py2.py3-none-any.whl (29 kB)\n",
      "Requirement already satisfied: attrs in /usr/local/lib/python3.8/dist-packages (from modelscope==1.9.5) (23.1.0)\n",
      "Requirement already satisfied: six>=1.5 in /usr/lib/python3/dist-packages (from python-dateutil>=2.1->modelscope==1.9.5) (1.14.0)\n",
      "Requirement already satisfied: packaging in /usr/local/lib/python3.8/dist-packages (from datasets<=2.13.0,>=2.8.0->modelscope==1.9.5) (23.2)\n",
      "Collecting multiprocess\n",
      "  Using cached https://pypi.tuna.tsinghua.edu.cn/packages/ea/89/38df130f2c799090c978b366cfdf5b96d08de5b29a4a293df7f7429fa50b/multiprocess-0.70.16-py38-none-any.whl (132 kB)\n",
      "Collecting fsspec[http]>=2021.11.1\n",
      "  Using cached https://pypi.tuna.tsinghua.edu.cn/packages/ad/30/2281c062222dc39328843bd1ddd30ff3005ef8e30b2fd09c4d2792766061/fsspec-2024.2.0-py3-none-any.whl (170 kB)\n",
      "Collecting aiohttp\n",
      "  Using cached https://pypi.tuna.tsinghua.edu.cn/packages/46/11/5c9481d7a7f511b51e9b2a85885640268d0b92207a89e529585a3af397b8/aiohttp-3.9.3-cp38-cp38-manylinux_2_17_x86_64.manylinux2014_x86_64.whl (1.3 MB)\n",
      "Collecting huggingface-hub<1.0.0,>=0.11.0\n",
      "  Downloading https://pypi.tuna.tsinghua.edu.cn/packages/ab/28/d4b691840d73126d4c9845f8a22dad033ac872509b6d3a0d93b456eef424/huggingface_hub-0.21.4-py3-none-any.whl (346 kB)\n",
      "\u001b[K     |████████████████████████████████| 346 kB 6.0 MB/s eta 0:00:01\n",
      "\u001b[?25hCollecting dill<0.3.7,>=0.3.0\n",
      "  Using cached https://pypi.tuna.tsinghua.edu.cn/packages/be/e3/a84bf2e561beed15813080d693b4b27573262433fced9c1d1fea59e60553/dill-0.3.6-py3-none-any.whl (110 kB)\n",
      "Collecting xxhash\n",
      "  Using cached https://pypi.tuna.tsinghua.edu.cn/packages/ad/80/8fc9a4d76b259c901f2c85ed10f330a8fb51993a577bddfd53a852595e12/xxhash-3.4.1-cp38-cp38-manylinux_2_17_x86_64.manylinux2014_x86_64.whl (194 kB)\n",
      "Requirement already satisfied: certifi>=2017.4.17 in /usr/lib/python3/dist-packages (from requests>=2.25->modelscope==1.9.5) (2019.11.28)\n",
      "Collecting charset-normalizer<4,>=2\n",
      "  Using cached https://pypi.tuna.tsinghua.edu.cn/packages/3d/09/d82fe4a34c5f0585f9ea1df090e2a71eb9bb1e469723053e1ee9f57c16f3/charset_normalizer-3.3.2-cp38-cp38-manylinux_2_17_x86_64.manylinux2014_x86_64.whl (141 kB)\n",
      "Requirement already satisfied: idna<4,>=2.5 in /usr/lib/python3/dist-packages (from requests>=2.25->modelscope==1.9.5) (2.8)\n",
      "Requirement already satisfied: pytz>=2020.1 in /usr/local/lib/python3.8/dist-packages (from pandas->modelscope==1.9.5) (2023.3.post1)\n",
      "Collecting tzdata>=2022.1\n",
      "  Using cached https://pypi.tuna.tsinghua.edu.cn/packages/65/58/f9c9e6be752e9fcb8b6a0ee9fb87e6e7a1f6bcab2cdc73f02bb7ba91ada0/tzdata-2024.1-py2.py3-none-any.whl (345 kB)\n",
      "Collecting aliyun-python-sdk-core>=2.13.12\n",
      "  Downloading https://pypi.tuna.tsinghua.edu.cn/packages/cf/0f/c191007d4a0c068725009489d7f928614151da938598b875568a6323cff2/aliyun-python-sdk-core-2.15.0.tar.gz (443 kB)\n",
      "\u001b[K     |████████████████████████████████| 443 kB 2.3 MB/s eta 0:00:01\n",
      "\u001b[?25hProcessing ./.cache/pip/wheels/ee/bf/82/ac509f3b383e310a168c1da020cbc62d98c03a6c7c74babc63/crcmod-1.7-cp38-cp38-linux_x86_64.whl\n",
      "Collecting aliyun-python-sdk-kms>=2.4.1\n",
      "  Using cached https://pypi.tuna.tsinghua.edu.cn/packages/3d/ea/d88e08bfc4a0aee0111f1f24c98b19107bc6783441e7e944907c77b2243d/aliyun_python_sdk_kms-2.16.2-py2.py3-none-any.whl (94 kB)\n",
      "Collecting pycryptodome>=3.4.7\n",
      "  Using cached https://pypi.tuna.tsinghua.edu.cn/packages/af/20/5f29ec45462360e7f61e8688af9fe4a0afae057edfabdada662e11bf97e7/pycryptodome-3.20.0-cp35-abi3-manylinux_2_17_x86_64.manylinux2014_x86_64.whl (2.1 MB)\n",
      "Requirement already satisfied: tomli>=2.0.1 in /usr/local/lib/python3.8/dist-packages (from yapf->modelscope==1.9.5) (2.0.1)\n",
      "Requirement already satisfied: platformdirs>=3.5.1 in /usr/local/lib/python3.8/dist-packages (from yapf->modelscope==1.9.5) (4.0.0)\n",
      "Requirement already satisfied: importlib-metadata>=6.6.0 in /usr/local/lib/python3.8/dist-packages (from yapf->modelscope==1.9.5) (6.8.0)\n",
      "Collecting yarl<2.0,>=1.0\n",
      "  Using cached https://pypi.tuna.tsinghua.edu.cn/packages/58/c0/8d9a1c02f217f900f248e0ee31377849f4041aff3d36b71b1f30b4a0fa33/yarl-1.9.4-cp38-cp38-manylinux_2_17_x86_64.manylinux2014_x86_64.whl (308 kB)\n",
      "Collecting aiosignal>=1.1.2\n",
      "  Using cached https://pypi.tuna.tsinghua.edu.cn/packages/76/ac/a7305707cb852b7e16ff80eaf5692309bde30e2b1100a1fcacdc8f731d97/aiosignal-1.3.1-py3-none-any.whl (7.6 kB)\n",
      "Collecting multidict<7.0,>=4.5\n",
      "  Using cached https://pypi.tuna.tsinghua.edu.cn/packages/61/a3/c307d4af64e695d13e8587d3f996a51b134156c0e8e2e26f4135bb2bf517/multidict-6.0.5-cp38-cp38-manylinux_2_17_x86_64.manylinux2014_x86_64.whl (129 kB)\n",
      "Collecting frozenlist>=1.1.1\n",
      "  Using cached https://pypi.tuna.tsinghua.edu.cn/packages/45/4d/175b16d42daae8013bb1872f6d0870abd87da93e0a36706da4c9ba655d19/frozenlist-1.4.1-cp38-cp38-manylinux_2_5_x86_64.manylinux1_x86_64.manylinux_2_17_x86_64.manylinux2014_x86_64.whl (240 kB)\n",
      "Collecting async-timeout<5.0,>=4.0; python_version < \"3.11\"\n",
      "  Using cached https://pypi.tuna.tsinghua.edu.cn/packages/a7/fa/e01228c2938de91d47b307831c62ab9e4001e747789d0b05baf779a6488c/async_timeout-4.0.3-py3-none-any.whl (5.7 kB)\n",
      "Requirement already satisfied: typing-extensions>=3.7.4.3 in /usr/local/lib/python3.8/dist-packages (from huggingface-hub<1.0.0,>=0.11.0->datasets<=2.13.0,>=2.8.0->modelscope==1.9.5) (4.8.0)\n",
      "Collecting cryptography>=2.6.0\n",
      "  Using cached https://pypi.tuna.tsinghua.edu.cn/packages/fb/0b/14509319a1b49858425553d2fb3808579cfdfe98c1d71a3f046c1b4e0108/cryptography-42.0.5-cp37-abi3-manylinux_2_17_x86_64.manylinux2014_x86_64.whl (4.6 MB)\n",
      "Collecting jmespath<1.0.0,>=0.9.3\n",
      "  Using cached https://pypi.tuna.tsinghua.edu.cn/packages/07/cb/5f001272b6faeb23c1c9e0acc04d48eaaf5c862c17709d20e3469c6e0139/jmespath-0.10.0-py2.py3-none-any.whl (24 kB)\n",
      "Requirement already satisfied: zipp>=0.5 in /usr/local/lib/python3.8/dist-packages (from importlib-metadata>=6.6.0->yapf->modelscope==1.9.5) (3.17.0)\n",
      "Requirement already satisfied: cffi>=1.12; platform_python_implementation != \"PyPy\" in /usr/local/lib/python3.8/dist-packages (from cryptography>=2.6.0->aliyun-python-sdk-core>=2.13.12->oss2->modelscope==1.9.5) (1.16.0)\n",
      "Requirement already satisfied: pycparser in /usr/local/lib/python3.8/dist-packages (from cffi>=1.12; platform_python_implementation != \"PyPy\"->cryptography>=2.6.0->aliyun-python-sdk-core>=2.13.12->oss2->modelscope==1.9.5) (2.21)\n",
      "Building wheels for collected packages: aliyun-python-sdk-core\n",
      "  Building wheel for aliyun-python-sdk-core (setup.py) ... \u001b[?25ldone\n",
      "\u001b[?25h  Created wheel for aliyun-python-sdk-core: filename=aliyun_python_sdk_core-2.15.0-py3-none-any.whl size=535304 sha256=15453466d556f4f6c99f49f4392f9b924ac854eacc1e12026557f45257375c2a\n",
      "  Stored in directory: /root/.cache/pip/wheels/09/ea/63/9e89938b731cac86982a159692fbcdd2a3ab819120d43b7a51\n",
      "Successfully built aliyun-python-sdk-core\n",
      "\u001b[31mERROR: multiprocess 0.70.16 has requirement dill>=0.3.8, but you'll have dill 0.3.6 which is incompatible.\u001b[0m\n",
      "Installing collected packages: gast, pyarrow, dill, multiprocess, tzdata, pandas, charset-normalizer, urllib3, requests, tqdm, multidict, yarl, frozenlist, aiosignal, async-timeout, aiohttp, fsspec, filelock, huggingface-hub, xxhash, datasets, cryptography, jmespath, aliyun-python-sdk-core, crcmod, aliyun-python-sdk-kms, pycryptodome, oss2, scipy, addict, yapf, Pillow, einops, simplejson, sortedcontainers, modelscope\n",
      "  Attempting uninstall: urllib3\n",
      "    Found existing installation: urllib3 1.25.8\n",
      "    Not uninstalling urllib3 at /usr/lib/python3/dist-packages, outside environment /usr\n",
      "    Can't uninstall 'urllib3'. No files were found to uninstall.\n",
      "  Attempting uninstall: requests\n",
      "    Found existing installation: requests 2.22.0\n",
      "    Not uninstalling requests at /usr/lib/python3/dist-packages, outside environment /usr\n",
      "    Can't uninstall 'requests'. No files were found to uninstall.\n",
      "Successfully installed Pillow-10.2.0 addict-2.4.0 aiohttp-3.9.3 aiosignal-1.3.1 aliyun-python-sdk-core-2.15.0 aliyun-python-sdk-kms-2.16.2 async-timeout-4.0.3 charset-normalizer-3.3.2 crcmod-1.7 cryptography-42.0.5 datasets-2.13.0 dill-0.3.6 einops-0.7.0 filelock-3.13.1 frozenlist-1.4.1 fsspec-2024.2.0 gast-0.5.4 huggingface-hub-0.21.4 jmespath-0.10.0 modelscope-1.9.5 multidict-6.0.5 multiprocess-0.70.16 oss2-2.18.4 pandas-2.0.3 pyarrow-15.0.0 pycryptodome-3.20.0 requests-2.31.0 scipy-1.10.1 simplejson-3.19.2 sortedcontainers-2.4.0 tqdm-4.66.2 tzdata-2024.1 urllib3-2.2.1 xxhash-3.4.1 yapf-0.40.2 yarl-1.9.4\n",
      "Looking in indexes: https://pypi.tuna.tsinghua.edu.cn/simple\n",
      "Collecting transformers==4.35.2\n",
      "  Using cached https://pypi.tuna.tsinghua.edu.cn/packages/12/dd/f17b11a93a9ca27728e12512d167eb1281c151c4c6881d3ab59eb58f4127/transformers-4.35.2-py3-none-any.whl (7.9 MB)\n",
      "Requirement already satisfied: pyyaml>=5.1 in /usr/local/lib/python3.8/dist-packages (from transformers==4.35.2) (6.0.1)\n",
      "Collecting safetensors>=0.3.1\n",
      "  Using cached https://pypi.tuna.tsinghua.edu.cn/packages/50/7f/8f6dd5b16cdc9efb01ea6169037c2b4a1e3b433baae78ab14c0f8f88f012/safetensors-0.4.2-cp38-cp38-manylinux_2_17_x86_64.manylinux2014_x86_64.whl (1.3 MB)\n",
      "Collecting regex!=2019.12.17\n",
      "  Using cached https://pypi.tuna.tsinghua.edu.cn/packages/eb/10/4ccc8eed80f11c082a2883d49d4090aa80c7f65704216a529f490cb089b1/regex-2023.12.25-cp38-cp38-manylinux_2_17_x86_64.manylinux2014_x86_64.whl (777 kB)\n",
      "Requirement already satisfied: numpy>=1.17 in /usr/local/lib/python3.8/dist-packages (from transformers==4.35.2) (1.24.4)\n",
      "Requirement already satisfied: requests in /usr/local/lib/python3.8/dist-packages (from transformers==4.35.2) (2.31.0)\n",
      "Collecting tokenizers<0.19,>=0.14\n",
      "  Using cached https://pypi.tuna.tsinghua.edu.cn/packages/0e/d7/3220a4483d240180d0b9423206cc57a4997fd4b49a8393e5ce9a2f7908a9/tokenizers-0.15.2-cp38-cp38-manylinux_2_17_x86_64.manylinux2014_x86_64.whl (3.6 MB)\n",
      "Requirement already satisfied: tqdm>=4.27 in /usr/local/lib/python3.8/dist-packages (from transformers==4.35.2) (4.66.2)\n",
      "Requirement already satisfied: huggingface-hub<1.0,>=0.16.4 in /usr/local/lib/python3.8/dist-packages (from transformers==4.35.2) (0.21.4)\n",
      "Requirement already satisfied: filelock in /usr/local/lib/python3.8/dist-packages (from transformers==4.35.2) (3.13.1)\n",
      "Requirement already satisfied: packaging>=20.0 in /usr/local/lib/python3.8/dist-packages (from transformers==4.35.2) (23.2)\n",
      "Requirement already satisfied: certifi>=2017.4.17 in /usr/lib/python3/dist-packages (from requests->transformers==4.35.2) (2019.11.28)\n",
      "Requirement already satisfied: idna<4,>=2.5 in /usr/lib/python3/dist-packages (from requests->transformers==4.35.2) (2.8)\n",
      "Requirement already satisfied: charset-normalizer<4,>=2 in /usr/local/lib/python3.8/dist-packages (from requests->transformers==4.35.2) (3.3.2)\n",
      "Requirement already satisfied: urllib3<3,>=1.21.1 in /usr/local/lib/python3.8/dist-packages (from requests->transformers==4.35.2) (2.2.1)\n",
      "Requirement already satisfied: fsspec>=2023.5.0 in /usr/local/lib/python3.8/dist-packages (from huggingface-hub<1.0,>=0.16.4->transformers==4.35.2) (2024.2.0)\n",
      "Requirement already satisfied: typing-extensions>=3.7.4.3 in /usr/local/lib/python3.8/dist-packages (from huggingface-hub<1.0,>=0.16.4->transformers==4.35.2) (4.8.0)\n",
      "Installing collected packages: safetensors, regex, tokenizers, transformers\n",
      "Successfully installed regex-2023.12.25 safetensors-0.4.2 tokenizers-0.15.2 transformers-4.35.2\n",
      "Looking in indexes: https://pypi.tuna.tsinghua.edu.cn/simple\n",
      "Collecting streamlit==1.24.0\n",
      "  Using cached https://pypi.tuna.tsinghua.edu.cn/packages/3d/5f/1716c66c58a8b080f9673e7ca569044b1b8ac6a5cd8519fe4b1afa89abf8/streamlit-1.24.0-py2.py3-none-any.whl (8.9 MB)\n",
      "Collecting validators<1,>=0.2\n",
      "  Using cached https://pypi.tuna.tsinghua.edu.cn/packages/3a/0c/785d317eea99c3739821718f118c70537639aa43f96bfa1d83a71f68eaf6/validators-0.22.0-py3-none-any.whl (26 kB)\n",
      "Requirement already satisfied: python-dateutil<3,>=2 in /usr/local/lib/python3.8/dist-packages (from streamlit==1.24.0) (2.8.2)\n",
      "Collecting tenacity<9,>=8.0.0\n",
      "  Using cached https://pypi.tuna.tsinghua.edu.cn/packages/f4/f1/990741d5bb2487d529d20a433210ffa136a367751e454214013b441c4575/tenacity-8.2.3-py3-none-any.whl (24 kB)\n",
      "Collecting tzlocal<5,>=1.1\n",
      "  Using cached https://pypi.tuna.tsinghua.edu.cn/packages/55/a6/a75af44665e5e77e52f6789eef4f8bc056c8e039d96c804b975806942580/tzlocal-4.3.1-py3-none-any.whl (20 kB)\n",
      "Requirement already satisfied: typing-extensions<5,>=4.0.1 in /usr/local/lib/python3.8/dist-packages (from streamlit==1.24.0) (4.8.0)\n",
      "Requirement already satisfied: cachetools<6,>=4.0 in /usr/local/lib/python3.8/dist-packages (from streamlit==1.24.0) (5.3.2)\n",
      "Requirement already satisfied: pandas<3,>=0.25 in /usr/local/lib/python3.8/dist-packages (from streamlit==1.24.0) (2.0.3)\n",
      "Collecting altair<6,>=4.0\n",
      "  Using cached https://pypi.tuna.tsinghua.edu.cn/packages/c5/e4/7fcceef127badbb0d644d730d992410e4f3799b295c9964a172f92a469c7/altair-5.2.0-py3-none-any.whl (996 kB)\n",
      "Collecting watchdog; platform_system != \"Darwin\"\n",
      "  Using cached https://pypi.tuna.tsinghua.edu.cn/packages/91/7b/26d2f43aa9fe428416be21ee1cb9ac75638cf302466b7e706c14eeaea42c/watchdog-4.0.0-py3-none-manylinux2014_x86_64.whl (82 kB)\n",
      "Requirement already satisfied: protobuf<5,>=3.20 in /usr/local/lib/python3.8/dist-packages (from streamlit==1.24.0) (4.25.1)\n",
      "Requirement already satisfied: pyarrow>=4.0 in /usr/local/lib/python3.8/dist-packages (from streamlit==1.24.0) (15.0.0)\n",
      "Requirement already satisfied: importlib-metadata<7,>=1.4 in /usr/local/lib/python3.8/dist-packages (from streamlit==1.24.0) (6.8.0)\n",
      "Collecting pillow<10,>=6.2.0\n",
      "  Using cached https://pypi.tuna.tsinghua.edu.cn/packages/1b/dc/2d0919633097a93dcad35a2fb97304f4a9297f746e830a8b441af3db2007/Pillow-9.5.0-cp38-cp38-manylinux_2_17_x86_64.manylinux2014_x86_64.whl (3.3 MB)\n",
      "Requirement already satisfied: packaging<24,>=14.1 in /usr/local/lib/python3.8/dist-packages (from streamlit==1.24.0) (23.2)\n",
      "Requirement already satisfied: tornado<7,>=6.0.3 in /usr/local/lib/python3.8/dist-packages (from streamlit==1.24.0) (6.3.3)\n",
      "Requirement already satisfied: numpy<2,>=1 in /usr/local/lib/python3.8/dist-packages (from streamlit==1.24.0) (1.24.4)\n",
      "Collecting pympler<2,>=0.9\n",
      "  Using cached https://pypi.tuna.tsinghua.edu.cn/packages/2c/42/41e1469ed0b37b9c8532cb8074bea179f7d85ee7e82a59b5b6c289ed6045/Pympler-1.0.1-py3-none-any.whl (164 kB)\n",
      "Collecting gitpython!=3.1.19,<4,>=3\n",
      "  Using cached https://pypi.tuna.tsinghua.edu.cn/packages/67/c7/995360c87dd74e27539ccbfecddfb58e08f140d849fcd7f35d2ed1a5f80f/GitPython-3.1.42-py3-none-any.whl (195 kB)\n",
      "Collecting toml<2\n",
      "  Using cached https://pypi.tuna.tsinghua.edu.cn/packages/44/6f/7120676b6d73228c96e17f1f794d8ab046fc910d781c8d151120c3f1569e/toml-0.10.2-py2.py3-none-any.whl (16 kB)\n",
      "Collecting blinker<2,>=1.0.0\n",
      "  Using cached https://pypi.tuna.tsinghua.edu.cn/packages/fa/2a/7f3714cbc6356a0efec525ce7a0613d581072ed6eb53eb7b9754f33db807/blinker-1.7.0-py3-none-any.whl (13 kB)\n",
      "Collecting rich<14,>=10.11.0\n",
      "  Using cached https://pypi.tuna.tsinghua.edu.cn/packages/87/67/a37f6214d0e9fe57f6ae54b2956d550ca8365857f42a1ce0392bb21d9410/rich-13.7.1-py3-none-any.whl (240 kB)\n",
      "Collecting pydeck<1,>=0.1.dev5\n",
      "  Using cached https://pypi.tuna.tsinghua.edu.cn/packages/10/4b/2fc80540e2d3903452245bb657c7f758ec7342420507d1e4091b0161856e/pydeck-0.8.1b0-py2.py3-none-any.whl (4.8 MB)\n",
      "Collecting click<9,>=7.0\n",
      "  Using cached https://pypi.tuna.tsinghua.edu.cn/packages/00/2e/d53fa4befbf2cfa713304affc7ca780ce4fc1fd8710527771b58311a3229/click-8.1.7-py3-none-any.whl (97 kB)\n",
      "Requirement already satisfied: requests<3,>=2.4 in /usr/local/lib/python3.8/dist-packages (from streamlit==1.24.0) (2.31.0)\n",
      "Requirement already satisfied: six>=1.5 in /usr/lib/python3/dist-packages (from python-dateutil<3,>=2->streamlit==1.24.0) (1.14.0)\n",
      "Collecting pytz-deprecation-shim\n",
      "  Using cached https://pypi.tuna.tsinghua.edu.cn/packages/eb/73/3eaab547ca809754e67e06871cff0fc962bafd4b604e15f31896a0f94431/pytz_deprecation_shim-0.1.0.post0-py2.py3-none-any.whl (15 kB)\n",
      "Collecting backports.zoneinfo; python_version < \"3.9\"\n",
      "  Using cached https://pypi.tuna.tsinghua.edu.cn/packages/1a/ab/3e941e3fcf1b7d3ab3d0233194d99d6a0ed6b24f8f956fc81e47edc8c079/backports.zoneinfo-0.2.1-cp38-cp38-manylinux1_x86_64.whl (74 kB)\n",
      "Requirement already satisfied: pytz>=2020.1 in /usr/local/lib/python3.8/dist-packages (from pandas<3,>=0.25->streamlit==1.24.0) (2023.3.post1)\n",
      "Requirement already satisfied: tzdata>=2022.1 in /usr/local/lib/python3.8/dist-packages (from pandas<3,>=0.25->streamlit==1.24.0) (2024.1)\n",
      "Requirement already satisfied: jinja2 in /usr/local/lib/python3.8/dist-packages (from altair<6,>=4.0->streamlit==1.24.0) (3.1.2)\n",
      "Requirement already satisfied: jsonschema>=3.0 in /usr/local/lib/python3.8/dist-packages (from altair<6,>=4.0->streamlit==1.24.0) (4.20.0)\n",
      "Collecting toolz\n",
      "  Using cached https://pypi.tuna.tsinghua.edu.cn/packages/b7/8a/d82202c9f89eab30f9fc05380daae87d617e2ad11571ab23d7c13a29bb54/toolz-0.12.1-py3-none-any.whl (56 kB)\n",
      "Requirement already satisfied: zipp>=0.5 in /usr/local/lib/python3.8/dist-packages (from importlib-metadata<7,>=1.4->streamlit==1.24.0) (3.17.0)\n",
      "Collecting gitdb<5,>=4.0.1\n",
      "  Using cached https://pypi.tuna.tsinghua.edu.cn/packages/fd/5b/8f0c4a5bb9fd491c277c21eff7ccae71b47d43c4446c9d0c6cff2fe8c2c4/gitdb-4.0.11-py3-none-any.whl (62 kB)\n",
      "Requirement already satisfied: pygments<3.0.0,>=2.13.0 in /usr/local/lib/python3.8/dist-packages (from rich<14,>=10.11.0->streamlit==1.24.0) (2.16.1)\n",
      "Collecting markdown-it-py>=2.2.0\n",
      "  Using cached https://pypi.tuna.tsinghua.edu.cn/packages/42/d7/1ec15b46af6af88f19b8e5ffea08fa375d433c998b8a7639e76935c14f1f/markdown_it_py-3.0.0-py3-none-any.whl (87 kB)\n",
      "Requirement already satisfied: urllib3<3,>=1.21.1 in /usr/local/lib/python3.8/dist-packages (from requests<3,>=2.4->streamlit==1.24.0) (2.2.1)\n",
      "Requirement already satisfied: certifi>=2017.4.17 in /usr/lib/python3/dist-packages (from requests<3,>=2.4->streamlit==1.24.0) (2019.11.28)\n",
      "Requirement already satisfied: charset-normalizer<4,>=2 in /usr/local/lib/python3.8/dist-packages (from requests<3,>=2.4->streamlit==1.24.0) (3.3.2)\n",
      "Requirement already satisfied: idna<4,>=2.5 in /usr/lib/python3/dist-packages (from requests<3,>=2.4->streamlit==1.24.0) (2.8)\n",
      "Requirement already satisfied: MarkupSafe>=2.0 in /usr/local/lib/python3.8/dist-packages (from jinja2->altair<6,>=4.0->streamlit==1.24.0) (2.1.3)\n",
      "Requirement already satisfied: importlib-resources>=1.4.0; python_version < \"3.9\" in /usr/local/lib/python3.8/dist-packages (from jsonschema>=3.0->altair<6,>=4.0->streamlit==1.24.0) (6.1.1)\n",
      "Requirement already satisfied: referencing>=0.28.4 in /usr/local/lib/python3.8/dist-packages (from jsonschema>=3.0->altair<6,>=4.0->streamlit==1.24.0) (0.31.0)\n",
      "Requirement already satisfied: attrs>=22.2.0 in /usr/local/lib/python3.8/dist-packages (from jsonschema>=3.0->altair<6,>=4.0->streamlit==1.24.0) (23.1.0)\n",
      "Requirement already satisfied: pkgutil-resolve-name>=1.3.10; python_version < \"3.9\" in /usr/local/lib/python3.8/dist-packages (from jsonschema>=3.0->altair<6,>=4.0->streamlit==1.24.0) (1.3.10)\n",
      "Requirement already satisfied: jsonschema-specifications>=2023.03.6 in /usr/local/lib/python3.8/dist-packages (from jsonschema>=3.0->altair<6,>=4.0->streamlit==1.24.0) (2023.11.1)\n",
      "Requirement already satisfied: rpds-py>=0.7.1 in /usr/local/lib/python3.8/dist-packages (from jsonschema>=3.0->altair<6,>=4.0->streamlit==1.24.0) (0.13.0)\n",
      "Collecting smmap<6,>=3.0.1\n",
      "  Using cached https://pypi.tuna.tsinghua.edu.cn/packages/a7/a5/10f97f73544edcdef54409f1d839f6049a0d79df68adbc1ceb24d1aaca42/smmap-5.0.1-py3-none-any.whl (24 kB)\n",
      "Collecting mdurl~=0.1\n",
      "  Using cached https://pypi.tuna.tsinghua.edu.cn/packages/b3/38/89ba8ad64ae25be8de66a6d463314cf1eb366222074cfda9ee839c56a4b4/mdurl-0.1.2-py3-none-any.whl (10.0 kB)\n",
      "Installing collected packages: validators, tenacity, backports.zoneinfo, pytz-deprecation-shim, tzlocal, toolz, altair, watchdog, pillow, pympler, smmap, gitdb, gitpython, toml, blinker, mdurl, markdown-it-py, rich, pydeck, click, streamlit\n",
      "  Attempting uninstall: pillow\n",
      "    Found existing installation: pillow 10.2.0\n",
      "    Uninstalling pillow-10.2.0:\n",
      "      Successfully uninstalled pillow-10.2.0\n",
      "Successfully installed altair-5.2.0 backports.zoneinfo-0.2.1 blinker-1.7.0 click-8.1.7 gitdb-4.0.11 gitpython-3.1.42 markdown-it-py-3.0.0 mdurl-0.1.2 pillow-9.5.0 pydeck-0.8.1b0 pympler-1.0.1 pytz-deprecation-shim-0.1.0.post0 rich-13.7.1 smmap-5.0.1 streamlit-1.24.0 tenacity-8.2.3 toml-0.10.2 toolz-0.12.1 tzlocal-4.3.1 validators-0.22.0 watchdog-4.0.0\n",
      "Looking in indexes: https://pypi.tuna.tsinghua.edu.cn/simple\n",
      "Collecting sentencepiece==0.1.99\n",
      "  Using cached https://pypi.tuna.tsinghua.edu.cn/packages/c9/58/4fbd3f33a38c9809fedf57bbef7e086b9909d6807148f35d68c0c90896d3/sentencepiece-0.1.99-cp38-cp38-manylinux_2_17_x86_64.manylinux2014_x86_64.whl (1.3 MB)\n",
      "Installing collected packages: sentencepiece\n",
      "Successfully installed sentencepiece-0.1.99\n",
      "Looking in indexes: https://pypi.tuna.tsinghua.edu.cn/simple\n",
      "Collecting accelerate==0.24.1\n",
      "  Using cached https://pypi.tuna.tsinghua.edu.cn/packages/13/9e/ee987874058f2d93006961f6ff49e0bcb60ab9c26709ebe06bfa8707a4d8/accelerate-0.24.1-py3-none-any.whl (261 kB)\n",
      "Collecting torch>=1.10.0\n",
      "  Using cached https://pypi.tuna.tsinghua.edu.cn/packages/26/c4/f8b24ee028aec8cc8fe9a7b375b83e1be9761184a0f540a0f87af603d18f/torch-2.2.1-cp38-cp38-manylinux1_x86_64.whl (755.5 MB)\n",
      "Requirement already satisfied: huggingface-hub in /usr/local/lib/python3.8/dist-packages (from accelerate==0.24.1) (0.21.4)\n",
      "Requirement already satisfied: packaging>=20.0 in /usr/local/lib/python3.8/dist-packages (from accelerate==0.24.1) (23.2)\n",
      "Requirement already satisfied: pyyaml in /usr/local/lib/python3.8/dist-packages (from accelerate==0.24.1) (6.0.1)\n",
      "Requirement already satisfied: numpy>=1.17 in /usr/local/lib/python3.8/dist-packages (from accelerate==0.24.1) (1.24.4)\n",
      "Requirement already satisfied: psutil in /usr/local/lib/python3.8/dist-packages (from accelerate==0.24.1) (5.9.6)\n",
      "Collecting nvidia-cuda-nvrtc-cu12==12.1.105; platform_system == \"Linux\" and platform_machine == \"x86_64\"\n",
      "  Using cached https://pypi.tuna.tsinghua.edu.cn/packages/b6/9f/c64c03f49d6fbc56196664d05dba14e3a561038a81a638eeb47f4d4cfd48/nvidia_cuda_nvrtc_cu12-12.1.105-py3-none-manylinux1_x86_64.whl (23.7 MB)\n",
      "Collecting nvidia-curand-cu12==10.3.2.106; platform_system == \"Linux\" and platform_machine == \"x86_64\"\n",
      "  Using cached https://pypi.tuna.tsinghua.edu.cn/packages/44/31/4890b1c9abc496303412947fc7dcea3d14861720642b49e8ceed89636705/nvidia_curand_cu12-10.3.2.106-py3-none-manylinux1_x86_64.whl (56.5 MB)\n",
      "Collecting nvidia-cublas-cu12==12.1.3.1; platform_system == \"Linux\" and platform_machine == \"x86_64\"\n",
      "  Using cached https://pypi.tuna.tsinghua.edu.cn/packages/37/6d/121efd7382d5b0284239f4ab1fc1590d86d34ed4a4a2fdb13b30ca8e5740/nvidia_cublas_cu12-12.1.3.1-py3-none-manylinux1_x86_64.whl (410.6 MB)\n",
      "Collecting nvidia-cuda-cupti-cu12==12.1.105; platform_system == \"Linux\" and platform_machine == \"x86_64\"\n",
      "  Using cached https://pypi.tuna.tsinghua.edu.cn/packages/7e/00/6b218edd739ecfc60524e585ba8e6b00554dd908de2c9c66c1af3e44e18d/nvidia_cuda_cupti_cu12-12.1.105-py3-none-manylinux1_x86_64.whl (14.1 MB)\n",
      "Collecting sympy\n",
      "  Using cached https://pypi.tuna.tsinghua.edu.cn/packages/d2/05/e6600db80270777c4a64238a98d442f0fd07cc8915be2a1c16da7f2b9e74/sympy-1.12-py3-none-any.whl (5.7 MB)\n",
      "Collecting nvidia-cusolver-cu12==11.4.5.107; platform_system == \"Linux\" and platform_machine == \"x86_64\"\n",
      "  Using cached https://pypi.tuna.tsinghua.edu.cn/packages/bc/1d/8de1e5c67099015c834315e333911273a8c6aaba78923dd1d1e25fc5f217/nvidia_cusolver_cu12-11.4.5.107-py3-none-manylinux1_x86_64.whl (124.2 MB)\n",
      "Collecting nvidia-cusparse-cu12==12.1.0.106; platform_system == \"Linux\" and platform_machine == \"x86_64\"\n",
      "  Using cached https://pypi.tuna.tsinghua.edu.cn/packages/65/5b/cfaeebf25cd9fdec14338ccb16f6b2c4c7fa9163aefcf057d86b9cc248bb/nvidia_cusparse_cu12-12.1.0.106-py3-none-manylinux1_x86_64.whl (196.0 MB)\n",
      "Collecting triton==2.2.0; platform_system == \"Linux\" and platform_machine == \"x86_64\" and python_version < \"3.12\"\n",
      "  Using cached https://pypi.tuna.tsinghua.edu.cn/packages/7f/fc/1c97813debad858dde5b84b5a8d4ea4077044a7b26e1ad8de9689af93565/triton-2.2.0-cp38-cp38-manylinux_2_17_x86_64.manylinux2014_x86_64.whl (167.9 MB)\n",
      "Collecting nvidia-cuda-runtime-cu12==12.1.105; platform_system == \"Linux\" and platform_machine == \"x86_64\"\n",
      "  Using cached https://pypi.tuna.tsinghua.edu.cn/packages/eb/d5/c68b1d2cdfcc59e72e8a5949a37ddb22ae6cade80cd4a57a84d4c8b55472/nvidia_cuda_runtime_cu12-12.1.105-py3-none-manylinux1_x86_64.whl (823 kB)\n",
      "Collecting networkx\n",
      "  Using cached https://pypi.tuna.tsinghua.edu.cn/packages/a8/05/9d4f9b78ead6b2661d6e8ea772e111fc4a9fbd866ad0c81906c11206b55e/networkx-3.1-py3-none-any.whl (2.1 MB)\n",
      "Collecting nvidia-cufft-cu12==11.0.2.54; platform_system == \"Linux\" and platform_machine == \"x86_64\"\n",
      "  Using cached https://pypi.tuna.tsinghua.edu.cn/packages/86/94/eb540db023ce1d162e7bea9f8f5aa781d57c65aed513c33ee9a5123ead4d/nvidia_cufft_cu12-11.0.2.54-py3-none-manylinux1_x86_64.whl (121.6 MB)\n",
      "Collecting nvidia-cudnn-cu12==8.9.2.26; platform_system == \"Linux\" and platform_machine == \"x86_64\"\n",
      "  Using cached https://pypi.tuna.tsinghua.edu.cn/packages/ff/74/a2e2be7fb83aaedec84f391f082cf765dfb635e7caa9b49065f73e4835d8/nvidia_cudnn_cu12-8.9.2.26-py3-none-manylinux1_x86_64.whl (731.7 MB)\n",
      "Requirement already satisfied: jinja2 in /usr/local/lib/python3.8/dist-packages (from torch>=1.10.0->accelerate==0.24.1) (3.1.2)\n",
      "Requirement already satisfied: fsspec in /usr/local/lib/python3.8/dist-packages (from torch>=1.10.0->accelerate==0.24.1) (2024.2.0)\n",
      "Collecting nvidia-nvtx-cu12==12.1.105; platform_system == \"Linux\" and platform_machine == \"x86_64\"\n",
      "  Using cached https://pypi.tuna.tsinghua.edu.cn/packages/da/d3/8057f0587683ed2fcd4dbfbdfdfa807b9160b809976099d36b8f60d08f03/nvidia_nvtx_cu12-12.1.105-py3-none-manylinux1_x86_64.whl (99 kB)\n",
      "Requirement already satisfied: filelock in /usr/local/lib/python3.8/dist-packages (from torch>=1.10.0->accelerate==0.24.1) (3.13.1)\n",
      "Collecting nvidia-nccl-cu12==2.19.3; platform_system == \"Linux\" and platform_machine == \"x86_64\"\n",
      "  Using cached https://pypi.tuna.tsinghua.edu.cn/packages/38/00/d0d4e48aef772ad5aebcf70b73028f88db6e5640b36c38e90445b7a57c45/nvidia_nccl_cu12-2.19.3-py3-none-manylinux1_x86_64.whl (166.0 MB)\n",
      "Requirement already satisfied: typing-extensions>=4.8.0 in /usr/local/lib/python3.8/dist-packages (from torch>=1.10.0->accelerate==0.24.1) (4.8.0)\n",
      "Requirement already satisfied: requests in /usr/local/lib/python3.8/dist-packages (from huggingface-hub->accelerate==0.24.1) (2.31.0)\n",
      "Requirement already satisfied: tqdm>=4.42.1 in /usr/local/lib/python3.8/dist-packages (from huggingface-hub->accelerate==0.24.1) (4.66.2)\n",
      "Collecting mpmath>=0.19\n",
      "  Using cached https://pypi.tuna.tsinghua.edu.cn/packages/43/e3/7d92a15f894aa0c9c4b49b8ee9ac9850d6e63b03c9c32c0367a13ae62209/mpmath-1.3.0-py3-none-any.whl (536 kB)\n",
      "Collecting nvidia-nvjitlink-cu12\n",
      "  Downloading https://pypi.tuna.tsinghua.edu.cn/packages/58/d1/d1c80553f9d5d07b6072bc132607d75a0ef3600e28e1890e11c0f55d7346/nvidia_nvjitlink_cu12-12.4.99-py3-none-manylinux2014_x86_64.whl (21.1 MB)\n",
      "\u001b[K     |████████████████████████████████| 21.1 MB 3.7 MB/s eta 0:00:01\n",
      "\u001b[?25hRequirement already satisfied: MarkupSafe>=2.0 in /usr/local/lib/python3.8/dist-packages (from jinja2->torch>=1.10.0->accelerate==0.24.1) (2.1.3)\n",
      "Requirement already satisfied: urllib3<3,>=1.21.1 in /usr/local/lib/python3.8/dist-packages (from requests->huggingface-hub->accelerate==0.24.1) (2.2.1)\n",
      "Requirement already satisfied: idna<4,>=2.5 in /usr/lib/python3/dist-packages (from requests->huggingface-hub->accelerate==0.24.1) (2.8)\n",
      "Requirement already satisfied: certifi>=2017.4.17 in /usr/lib/python3/dist-packages (from requests->huggingface-hub->accelerate==0.24.1) (2019.11.28)\n",
      "Requirement already satisfied: charset-normalizer<4,>=2 in /usr/local/lib/python3.8/dist-packages (from requests->huggingface-hub->accelerate==0.24.1) (3.3.2)\n",
      "Installing collected packages: nvidia-cuda-nvrtc-cu12, nvidia-curand-cu12, nvidia-cublas-cu12, nvidia-cuda-cupti-cu12, mpmath, sympy, nvidia-nvjitlink-cu12, nvidia-cusparse-cu12, nvidia-cusolver-cu12, triton, nvidia-cuda-runtime-cu12, networkx, nvidia-cufft-cu12, nvidia-cudnn-cu12, nvidia-nvtx-cu12, nvidia-nccl-cu12, torch, accelerate\n",
      "Successfully installed accelerate-0.24.1 mpmath-1.3.0 networkx-3.1 nvidia-cublas-cu12-12.1.3.1 nvidia-cuda-cupti-cu12-12.1.105 nvidia-cuda-nvrtc-cu12-12.1.105 nvidia-cuda-runtime-cu12-12.1.105 nvidia-cudnn-cu12-8.9.2.26 nvidia-cufft-cu12-11.0.2.54 nvidia-curand-cu12-10.3.2.106 nvidia-cusolver-cu12-11.4.5.107 nvidia-cusparse-cu12-12.1.0.106 nvidia-nccl-cu12-2.19.3 nvidia-nvjitlink-cu12-12.4.99 nvidia-nvtx-cu12-12.1.105 sympy-1.12 torch-2.2.1 triton-2.2.0\n"
     ]
    }
   ],
   "source": [
    "# 升级pip\n",
    "!python -m pip install --upgrade pip\n",
    "\n",
    "!pip install modelscope==1.9.5\n",
    "!pip install transformers==4.35.2\n",
    "!pip install streamlit==1.24.0\n",
    "!pip install sentencepiece==0.1.99\n",
    "!pip install accelerate==0.24.1"
   ]
  },
  {
   "cell_type": "markdown",
   "id": "ccb39eb8-e872-4ccc-b787-16d8598ee2d2",
   "metadata": {},
   "source": [
    "模型下载，直接复制share中的模型"
   ]
  },
  {
   "cell_type": "code",
   "execution_count": 2,
   "id": "91467e55-6a1c-4a5f-8275-99a6273a35b9",
   "metadata": {},
   "outputs": [],
   "source": [
    "!mkdir -p /root/model/Shanghai_AI_Laboratory\n",
    "!cp -r /root/share/temp/model_repos/internlm-chat-7b /root/model/Shanghai_AI_Laboratory"
   ]
  },
  {
   "cell_type": "markdown",
   "id": "d8778ea8-3bc1-4cf1-b502-8f73ccdd3596",
   "metadata": {},
   "source": [
    "代码准备"
   ]
  },
  {
   "cell_type": "code",
   "execution_count": 3,
   "id": "8222eedf-e8b3-4bd1-a73b-15d33d74645b",
   "metadata": {},
   "outputs": [
    {
     "name": "stdout",
     "output_type": "stream",
     "text": [
      "/root\n"
     ]
    }
   ],
   "source": [
    "!pwd"
   ]
  },
  {
   "cell_type": "code",
   "execution_count": 6,
   "id": "349b88dd-5beb-4c89-9200-6976287a3470",
   "metadata": {},
   "outputs": [],
   "source": [
    "!cd /root/code"
   ]
  },
  {
   "cell_type": "code",
   "execution_count": 7,
   "id": "ba752e29-0e20-40be-9fa8-4d456b3345ee",
   "metadata": {},
   "outputs": [
    {
     "name": "stdout",
     "output_type": "stream",
     "text": [
      "/root/code\n"
     ]
    }
   ],
   "source": [
    "!pwd"
   ]
  },
  {
   "cell_type": "code",
   "execution_count": 9,
   "id": "5fa290b3-e011-4114-9513-036fce1bd37a",
   "metadata": {},
   "outputs": [
    {
     "name": "stdout",
     "output_type": "stream",
     "text": [
      "Cloning into 'InternLM'...\n",
      "remote: Enumerating objects: 2604, done.\u001b[K\n",
      "remote: Counting objects: 100% (592/592), done.\u001b[K\n",
      "remote: Compressing objects: 100% (264/264), done.\u001b[K\n",
      "remote: Total 2604 (delta 324), reused 581 (delta 318), pack-reused 2012\u001b[K\n",
      "Receiving objects: 100% (2604/2604), 4.87 MiB | 1.77 MiB/s, done.\n",
      "Resolving deltas: 100% (1608/1608), done.\n"
     ]
    }
   ],
   "source": [
    "!git clone https://gitee.com/internlm/InternLM.git\n"
   ]
  },
  {
   "cell_type": "code",
   "execution_count": 72,
   "id": "f1cf6484-7b96-4bd8-abc9-9095fb31e762",
   "metadata": {},
   "outputs": [
    {
     "name": "stdout",
     "output_type": "stream",
     "text": [
      "/root/code/InternLM\n"
     ]
    }
   ],
   "source": [
    "cd /root/code/InternLM/"
   ]
  },
  {
   "cell_type": "code",
   "execution_count": 73,
   "id": "bb11ab06-fe61-4e1f-8405-62acbea27206",
   "metadata": {},
   "outputs": [
    {
     "name": "stdout",
     "output_type": "stream",
     "text": [
      "Note: switching to '3028f07cb79e5b1d7342f4ad8d11efad3fd13d17'.\n",
      "\n",
      "You are in 'detached HEAD' state. You can look around, make experimental\n",
      "changes and commit them, and you can discard any commits you make in this\n",
      "state without impacting any branches by switching back to a branch.\n",
      "\n",
      "If you want to create a new branch to retain commits you create, you may\n",
      "do so (now or later) by using -c with the switch command. Example:\n",
      "\n",
      "  git switch -c <new-branch-name>\n",
      "\n",
      "Or undo this operation with:\n",
      "\n",
      "  git switch -\n",
      "\n",
      "Turn off this advice by setting config variable advice.detachedHead to false\n",
      "\n",
      "HEAD is now at 3028f07 fix(readme): update README with original weight download link (#460)\n"
     ]
    }
   ],
   "source": [
    "!git checkout 3028f07cb79e5b1d7342f4ad8d11efad3fd13d17"
   ]
  },
  {
   "cell_type": "markdown",
   "id": "549b9acb-eca3-43f8-a182-c8e2aac7022a",
   "metadata": {},
   "source": [
    "将 /root/code/InternLM/web_demo.py 中 29 行和 33 行的模型更换为本地的 /root/model/Shanghai_AI_Laboratory/internlm-chat-7b"
   ]
  },
  {
   "cell_type": "markdown",
   "id": "526fd528-e145-4a37-b5b9-5d929ffd9072",
   "metadata": {},
   "source": [
    "新建cli_demo.py，填入以下代码\n"
   ]
  },
  {
   "cell_type": "code",
   "execution_count": 83,
   "id": "07aec7e1-7d15-413f-8418-51f2811eb392",
   "metadata": {},
   "outputs": [
    {
     "ename": "ModuleNotFoundError",
     "evalue": "No module named 'transformers'",
     "output_type": "error",
     "traceback": [
      "\u001b[0;31m---------------------------------------------------------------------------\u001b[0m",
      "\u001b[0;31mModuleNotFoundError\u001b[0m                       Traceback (most recent call last)",
      "Cell \u001b[0;32mIn[83], line 2\u001b[0m\n\u001b[1;32m      1\u001b[0m \u001b[38;5;28;01mimport\u001b[39;00m \u001b[38;5;21;01mtorch\u001b[39;00m\n\u001b[0;32m----> 2\u001b[0m \u001b[38;5;28;01mimport\u001b[39;00m \u001b[38;5;21;01mtransformers\u001b[39;00m\n\u001b[1;32m      3\u001b[0m \u001b[38;5;28;01mfrom\u001b[39;00m \u001b[38;5;21;01mtransformers\u001b[39;00m \u001b[38;5;28;01mimport\u001b[39;00m AutoTokenizer, AutoModelForCausalLM\n\u001b[1;32m      6\u001b[0m model_name_or_path \u001b[38;5;241m=\u001b[39m \u001b[38;5;124m\"\u001b[39m\u001b[38;5;124m/root/model/Shanghai_AI_Laboratory/internlm-chat-7b\u001b[39m\u001b[38;5;124m\"\u001b[39m\n",
      "\u001b[0;31mModuleNotFoundError\u001b[0m: No module named 'transformers'"
     ]
    }
   ],
   "source": [
    "import torch\n",
    "import transformers\n",
    "from transformers import AutoTokenizer, AutoModelForCausalLM\n",
    "\n",
    "\n",
    "model_name_or_path = \"/root/model/Shanghai_AI_Laboratory/internlm-chat-7b\"\n",
    "\n",
    "tokenizer = AutoTokenizer.from_pretrained(model_name_or_path, trust_remote_code=True)\n",
    "model = AutoModelForCausalLM.from_pretrained(model_name_or_path, trust_remote_code=True, torch_dtype=torch.bfloat16, device_map='auto')\n",
    "model = model.eval()\n",
    "\n",
    "system_prompt = \"\"\"You are an AI assistant whose name is InternLM (书生·浦语).\n",
    "- InternLM (书生·浦语) is a conversational language model that is developed by Shanghai AI Laboratory (上海人工智能实验室). It is designed to be helpful, honest, and harmless.\n",
    "- InternLM (书生·浦语) can understand and communicate fluently in the language chosen by the user such as English and 中文.\n",
    "\"\"\"\n",
    "\n",
    "messages = [(system_prompt, '')]\n",
    "\n",
    "print(\"=============Welcome to InternLM chatbot, type 'exit' to exit.=============\")\n",
    "\n",
    "while True:\n",
    "    input_text = input(\"User  >>> \")\n",
    "    input_text = input_text.replace(' ', '')\n",
    "    if input_text == \"exit\":\n",
    "        break\n",
    "    response, history = model.chat(tokenizer, input_text, history=messages)\n",
    "    messages.append((input_text, response))\n",
    "    print(f\"robot >>> {response}\")"
   ]
  },
  {
   "cell_type": "code",
   "execution_count": null,
   "id": "2f244efb-3552-4338-ae44-3bf62f818f86",
   "metadata": {},
   "outputs": [],
   "source": []
  }
 ],
 "metadata": {
  "kernelspec": {
   "display_name": "internlm-demo",
   "language": "python",
   "name": "internlm-demo"
  },
  "language_info": {
   "codemirror_mode": {
    "name": "ipython",
    "version": 3
   },
   "file_extension": ".py",
   "mimetype": "text/x-python",
   "name": "python",
   "nbconvert_exporter": "python",
   "pygments_lexer": "ipython3",
   "version": "3.10.13"
  }
 },
 "nbformat": 4,
 "nbformat_minor": 5
}
